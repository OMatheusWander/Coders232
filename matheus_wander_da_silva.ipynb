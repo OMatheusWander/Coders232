{
  "nbformat": 4,
  "nbformat_minor": 0,
  "metadata": {
    "colab": {
      "provenance": [],
      "toc_visible": true,
      "authorship_tag": "ABX9TyOSW4ZnFHgoGVl+ElKHwvSb",
      "include_colab_link": true
    },
    "kernelspec": {
      "name": "python3",
      "display_name": "Python 3"
    },
    "language_info": {
      "name": "python"
    }
  },
  "cells": [
    {
      "cell_type": "markdown",
      "metadata": {
        "id": "view-in-github",
        "colab_type": "text"
      },
      "source": [
        "<a href=\"https://colab.research.google.com/github/OMatheusWander/Coders232/blob/main/matheus_wander_da_silva.ipynb\" target=\"_parent\"><img src=\"https://colab.research.google.com/assets/colab-badge.svg\" alt=\"Open In Colab\"/></a>"
      ]
    },
    {
      "cell_type": "markdown",
      "source": [
        "# Coding Tank | ED- Santander Coders 2023 | 2º Semestre (2)\n",
        "Aluno: Matheus Wander da Silva #1085"
      ],
      "metadata": {
        "id": "Gglkun3nijTS"
      }
    },
    {
      "cell_type": "markdown",
      "source": [
        "#Questão 1"
      ],
      "metadata": {
        "id": "zR7JkzbikDrQ"
      }
    },
    {
      "cell_type": "markdown",
      "source": [
        "Considere o seguinte trecho de código, parte do preenchimento do perfil de investidor do banco:\n",
        "\n",
        "i = input('Você sabe o que é uma RENDA FIXA?: ')\n",
        "Caso o usuário digite na caixa de texto de entrada \"True\", qual será o tipo de dado da variável i?\n",
        "\n",
        "a) int\n",
        "\n",
        "b) str\n",
        "\n",
        "c) float\n",
        "\n",
        "d) bool\n",
        "\n",
        "e) list"
      ],
      "metadata": {
        "id": "_EgYCXGji6Io"
      }
    },
    {
      "cell_type": "markdown",
      "source": [
        "\n",
        "\n",
        "---\n",
        "\n",
        "\n",
        "Resposta: Será a alternativa \"d\". Bool, ou booleano, visto que, é uma variável que é dual. Apresentando então dois possíveis estados - True ou False. Portanto, a variável i ao ter este input para o preechimento do perfil de investidor do banco terá, de tal forma terá a possibilidade de ser Sim ou Não, se encaixando respectivamente como True ou False."
      ],
      "metadata": {
        "id": "mrtsG5iui8BA"
      }
    },
    {
      "cell_type": "markdown",
      "source": [
        "#Questão 2\n"
      ],
      "metadata": {
        "id": "SjRt0zzakM45"
      }
    },
    {
      "cell_type": "markdown",
      "source": [
        "Você precisa implementar um código em Python que solicite ao usuário o valor principal (capital) inicial, a taxa de juros por período e o tempo em que o dinheiro é emprestado ou investido. Com base nesses valores, o programa deve calcular os juros simples e o montante total ao final do período. Assuma que temos apenas um único mês de investimento/empréstimo. Assinale a alternativa que corretamente implementa este procedimento:\n",
        "\n",
        "a) juros = principal *= taxa\n",
        "montante = principal + juros\n",
        "\n",
        "b) juros = principal * taxa\n",
        "montante = principal += juros\n",
        "\n",
        "c) juros = principal *= taxa\n",
        "montante = principal += juros\n",
        "\n",
        "d) juros = principal + taxa\n",
        "montante == principal ** juros\n",
        "\n",
        "e) juros = principal * taxa\n",
        "montante = principal + juros\n",
        "\n",
        "Dica: O montante é calculado somando o principal ao juros e os juros são o produto do principal pela taxa.\n",
        "\n"
      ],
      "metadata": {
        "id": "VjU3DKiUj1CO"
      }
    },
    {
      "cell_type": "markdown",
      "source": [],
      "metadata": {
        "id": "pMKP7GZBqRra"
      }
    },
    {
      "cell_type": "markdown",
      "source": [
        "\n",
        "---\n",
        "Resposta: A alternativa correta é a letra \"e\". Porque, Juros=Principal * Taxa *\n",
        "1 e onde o período fica irrelevante colocar,pois não interferirá no calcúlo, visto que é apenas representará 1 período.\n",
        "\n",
        "Caso fosse desenvolver o programa ficaria algo próximo de:"
      ],
      "metadata": {
        "id": "TCsh-32WlL8H"
      }
    },
    {
      "cell_type": "code",
      "source": [
        "principal = float(input(\"Qual o valor a investir? \"))\n",
        "taxa = float(input(\"Quanto é a taxa de juros no período?\"))\n",
        "tempo = 1  # Na questão fixa-se o valor de 1 para o tempo\n",
        "\n",
        "juros = principal * (taxa/100) # *1 (período)\n",
        "montante = principal + juros\n",
        "\n",
        "print(\"Juros:\", juros)\n",
        "print(\"Montante:\", montante)"
      ],
      "metadata": {
        "colab": {
          "base_uri": "https://localhost:8080/"
        },
        "id": "l1pv2fwUl8s7",
        "outputId": "1ac63491-856e-44d7-bd1d-2c5065327c8d"
      },
      "execution_count": 4,
      "outputs": [
        {
          "output_type": "stream",
          "name": "stdout",
          "text": [
            "Qual o valor a investir? 1000\n",
            "Quanto é a taxa de juros no período?1\n",
            "Juros: 10.0\n",
            "Montante: 1010.0\n"
          ]
        }
      ]
    },
    {
      "cell_type": "markdown",
      "source": [
        "Portanto,  com 1% de taxa ao inserir no exemplo o output foi de 10 unidades monetárias, das quais somaram-se ao montante final do período e ficou em 1010.0 unidades monetárias."
      ],
      "metadata": {
        "id": "igPrseIbmwDv"
      }
    },
    {
      "cell_type": "markdown",
      "source": [
        "#Questão 3\n",
        "\n"
      ],
      "metadata": {
        "id": "KMhXV6HCnFOD"
      }
    },
    {
      "cell_type": "markdown",
      "source": [
        "Na variável clientes_ano temos uma lista de listas, em que cada elemento é uma lista de dois elementos, o primeiro é o nome do cliente cadastrado na plataforma, e o segundo é o ano em que o cadastro foi realizado. Você deseja criar uma nova lista de listas (chamade de clientes_relacionamento), em que cada elemento é uma lista de dois elementos, sendo o primeiro o nome do cliente (como é na lista original), e o segundo é o número de anos em que o cliente está cadastrado na plataforma (considere que o ano atual é 2023). Qual das alternativas a seguir completa corretamente o trecho de código iniciado abaixo, para construir corretamente a lista desejada?"
      ],
      "metadata": {
        "id": "QNT4PUXLnf1w"
      }
    },
    {
      "cell_type": "code",
      "source": [
        "clientes_ano = [['Cliente A', 2018], ['Cliente B', 2021]] # Este é apenas um exemplo da lista dos anos\n",
        "clientes_relacionamento = []\n",
        "\n",
        "for lista in clientes_ano:\n",
        "\n",
        "    # o código da alternativa correta deve vir aqui:"
      ],
      "metadata": {
        "id": "zHaDhFuXnIvL"
      },
      "execution_count": null,
      "outputs": []
    },
    {
      "cell_type": "markdown",
      "source": [
        "Ao revisar este código, qual das alternativas a seguir produz o mesmo resultado?\n",
        "\n",
        "a) clientes_relacionamento.append([lista[0], lista[1] - 2023])\n",
        "\n",
        "b) clientes_relacionamento.append([lista[1], 2023 - lista[0]])\n",
        "\n",
        "c) clientes_relacionamento.append([lista[1], lista[0] - 2023])\n",
        "\n",
        "d) clientes_relacionamento.append([lista, 2023 - lista])\n",
        "\n",
        "e) clientes_relacionamento.append([lista[0], 2023 - lista[1]])"
      ],
      "metadata": {
        "id": "XToP1eMJn1ZI"
      }
    },
    {
      "cell_type": "markdown",
      "source": [
        "Resposta: Demonstrei na linha de código abaixo, que ao compilar o código, ficando com a clientes_relacionamento aparecendo com o nome do cliente e posteriormente na lista o tempo de relacionamento. Assim, com um cálculo simples de ano vigente \"-\" quando foi o cadastro, que é arredondado, visto que se fora adicionado em 02 de janeiro de 2018 e hoje no dia 15 de dezembro de 2023 não será exatamente 5 anos e sim 5 anos e 351 dias, sem considerar anos bissextos. Além disso o código deveria ser aprimorado para sempre colocar o ano vigente, pois daqui cerca de duas semanas e tantos estaria por ficar obsoleto, isto poderia ser feito através do Datetime do Python."
      ],
      "metadata": {
        "id": "7LPqJxfvosn_"
      }
    },
    {
      "cell_type": "code",
      "source": [
        "clientes_ano = [['Cliente A', 2018], ['Cliente B', 2021]] # Este é apenas um exemplo da lista dos anos\n",
        "clientes_relacionamento = []\n",
        "\n",
        "for lista in clientes_ano:\n",
        "\n",
        "    # o código da alternativa correta deve vir aqui:\n",
        "    clientes_relacionamento.append([lista[0], 2023 - lista[1]])\n",
        "    resposta = \"\"\"Pega-se o primeiro termo, logo o número 0 entre colchetes na posição primeira, da qual pegará o nome do cliente\n",
        "    já ao colocar a virgula fará-se o cálculo do delta temporal de ano menos o valor segundo da lista, utilizando-se do localizador na lista o colchetes e o número da posição:[1].\"\"\"\n",
        "\n",
        "\n",
        "\n",
        "\n",
        "    print(clientes_relacionamento)"
      ],
      "metadata": {
        "colab": {
          "base_uri": "https://localhost:8080/"
        },
        "id": "EAnJw-isqLSA",
        "outputId": "3e35b9a8-3426-4a34-90ec-07da887112d0"
      },
      "execution_count": 20,
      "outputs": [
        {
          "output_type": "stream",
          "name": "stdout",
          "text": [
            "[['Cliente A', 5]]\n",
            "[['Cliente A', 5], ['Cliente B', 2]]\n"
          ]
        }
      ]
    },
    {
      "cell_type": "markdown",
      "source": [
        "#Questão 4\n"
      ],
      "metadata": {
        "id": "9fpyqZJxnJQI"
      }
    },
    {
      "cell_type": "markdown",
      "source": [
        "Queremos criar uma lista para armazenar os preços dos produtos de determinado banco. Em qual das opções abaixo a variável precos_produtos não é uma lista?\n",
        "\n",
        "a) precos_produtos = []\n",
        "\n",
        "b) precos_produtos = list(\"1 2 3 4\")\n",
        "\n",
        "c) precos_produtos = (1, 1.5, 3.8)\n",
        "\n",
        "d) precos_produtos = [1, 2, 3, 4]\n",
        "\n",
        "e) precos_produtos = list()"
      ],
      "metadata": {
        "id": "Y0ZQ9GW7spo3"
      }
    },
    {
      "cell_type": "markdown",
      "source": [
        "---\n",
        "Resposta: A alternativa \"c\" é considerada uma tupla, pois pela documentação do Python foi criado desta forma. Já as outras alternativas contemplam listas, das quais utilizam-se de colchetes ou  a função \"list()\" e ficando a variável como 'preco_produtos' ou lista vazia, que como a alternativa \"a\" com o colchetes sendo: []. A alternativa b caracteriza-se por ser uma string, é de certa forma um registro de texto e a alternativa \"d\" é uma lista com posições referenciadas de cada termo."
      ],
      "metadata": {
        "id": "8tsgUSblssAJ"
      }
    },
    {
      "cell_type": "markdown",
      "source": [],
      "metadata": {
        "id": "vGLioFABng07"
      }
    },
    {
      "cell_type": "code",
      "source": [],
      "metadata": {
        "id": "yNgRd1NFnMJ5"
      },
      "execution_count": null,
      "outputs": []
    },
    {
      "cell_type": "markdown",
      "source": [
        "#Questão 5"
      ],
      "metadata": {
        "id": "jKW7zHqfnM38"
      }
    },
    {
      "cell_type": "markdown",
      "source": [
        "Em um banco, existe um sistema de alerta na central de suporte que é ativado quando o número de chamados supera 500. Enquanto o volume de chamados permanecer acima desse limite, o sistema exibe uma mensagem indicando quantos chamados ainda precisam ser resolvidos para que o número volte a ficar adequado. Para implementar esta lógica, você começou criando o seguinte código:"
      ],
      "metadata": {
        "id": "4eAaky3vnhe4"
      }
    },
    {
      "cell_type": "code",
      "source": [
        "num_chamados = 780\n",
        "\n",
        "while (num_chamados > 500):\n",
        "\n",
        "    print(f'ALERTA! HÁ UM TOTAL DE {num_chamados}')\n",
        "\n",
        "    print('Você atendeu um chamado!')\n",
        "\n",
        "    print(f\"Faltam {num_chamados - 500} para o nível estar dentro do aceitável!\")\n",
        "\n",
        "    # código da alternativa correta aqui\n",
        "\n",
        "print(\"\\nNão estamos mais em estado de alerta!\")"
      ],
      "metadata": {
        "id": "AXw26ne4ucnf"
      },
      "execution_count": null,
      "outputs": []
    },
    {
      "cell_type": "markdown",
      "source": [
        "Assinale a alternativa que implementa corretamente a lógica desejada, substituindo o comentário no código acima:\n",
        "\n",
        "a) num_chamados += 1\n",
        "\n",
        "b) num_chamados = 100 - num_chamados\n",
        "\n",
        "c) num_chamados -= 1\n",
        "\n",
        "d) num_chamados = 100 + num_chamados\n",
        "\n",
        "e) num_chamados += 100"
      ],
      "metadata": {
        "id": "MjmCNiWquqrR"
      }
    },
    {
      "cell_type": "markdown",
      "source": [
        "\n",
        "\n",
        "---\n",
        "\n"
      ],
      "metadata": {
        "id": "VKH-t2fVudoD"
      }
    },
    {
      "cell_type": "markdown",
      "source": [
        "Resposta:"
      ],
      "metadata": {
        "id": "0mRMzKG6niCB"
      }
    },
    {
      "cell_type": "code",
      "source": [
        "num_chamados = 780 #Mostra-se aqui a entrada de valores, ou seja, quantos clientes estão em chamados.\n",
        "\n",
        "while (num_chamados > 500): #Abriu-se um while para valores superiores a 500 chamados, portanto \"num_chamados\" > 500. Logo inicia-se um aviso com o total de chamados.\n",
        "\n",
        "    print(f'ALERTA! HÁ UM TOTAL DE {num_chamados}')\n",
        "\n",
        "    print('Você atendeu um chamado!') #Mostra-se a efetivação de recebimento de chamada, contando com que o telefonista está atendendo, pois não tem um input booleano de atendimento- atendeu ou não um chamado, vezes o número 1(para contemplar um atendente).\n",
        "\n",
        "    print(f\"Faltam {num_chamados - 500} para o nível estar dentro do aceitável!\") #Ao atender o chamado, mostra-se o número de chamados ainda pendentes.\n",
        "\n",
        "    # código da alternativa correta aqui:\n",
        "    num_chamados -= 1  #Portanto, com o código desta linha diminui-se em forma de loop o número de chamados até cair em um que esteja com menos de 500 chamados pendentes, assim não caindo no \"estado de alerta\".\n",
        "\n",
        "print(\"\\nNão estamos mais em estado de alerta!\") #De tal forma, que o alerta sai e pela identação nesta condição do while tirará o alerta e mostrará que não está mais em \"estado de alerta\"."
      ],
      "metadata": {
        "id": "s0d_O4psnOX0"
      },
      "execution_count": null,
      "outputs": []
    },
    {
      "cell_type": "markdown",
      "source": [
        "#Questão 6"
      ],
      "metadata": {
        "id": "8BSm7vfEnO3l"
      }
    },
    {
      "cell_type": "markdown",
      "source": [],
      "metadata": {
        "id": "8XE4kyyVniux"
      }
    },
    {
      "cell_type": "markdown",
      "source": [],
      "metadata": {
        "id": "bDB0yt6BnjH-"
      }
    },
    {
      "cell_type": "code",
      "source": [],
      "metadata": {
        "id": "O-JXuUhonRlZ"
      },
      "execution_count": null,
      "outputs": []
    },
    {
      "cell_type": "markdown",
      "source": [
        "#Questão 7"
      ],
      "metadata": {
        "id": "dr5Ou83OnR-5"
      }
    },
    {
      "cell_type": "markdown",
      "source": [],
      "metadata": {
        "id": "JCXFJy9wnj5P"
      }
    },
    {
      "cell_type": "markdown",
      "source": [],
      "metadata": {
        "id": "WWkv_s3QnkTY"
      }
    },
    {
      "cell_type": "code",
      "source": [],
      "metadata": {
        "id": "CHtDJE5TnTlD"
      },
      "execution_count": null,
      "outputs": []
    },
    {
      "cell_type": "markdown",
      "source": [
        "#Questão 8"
      ],
      "metadata": {
        "id": "xtDfFAsnnVWF"
      }
    },
    {
      "cell_type": "markdown",
      "source": [],
      "metadata": {
        "id": "otR4lmxUnk23"
      }
    },
    {
      "cell_type": "markdown",
      "source": [],
      "metadata": {
        "id": "Jcp5JRvnnlLG"
      }
    },
    {
      "cell_type": "code",
      "source": [],
      "metadata": {
        "id": "f2QuX3b1nXoe"
      },
      "execution_count": null,
      "outputs": []
    },
    {
      "cell_type": "markdown",
      "source": [
        "#Questão 9"
      ],
      "metadata": {
        "id": "wihXYZGPnYEc"
      }
    },
    {
      "cell_type": "markdown",
      "source": [],
      "metadata": {
        "id": "byyZ-L26nltQ"
      }
    },
    {
      "cell_type": "markdown",
      "source": [],
      "metadata": {
        "id": "S1bdUe1EnmAf"
      }
    },
    {
      "cell_type": "code",
      "source": [],
      "metadata": {
        "id": "hke_3RdInZxE"
      },
      "execution_count": null,
      "outputs": []
    },
    {
      "cell_type": "markdown",
      "source": [
        "#Questão 10"
      ],
      "metadata": {
        "id": "CmFPDYz3nazI"
      }
    },
    {
      "cell_type": "markdown",
      "source": [],
      "metadata": {
        "id": "fEjBHLCrnmdS"
      }
    },
    {
      "cell_type": "markdown",
      "source": [],
      "metadata": {
        "id": "ERBa6pOgnm2E"
      }
    },
    {
      "cell_type": "code",
      "source": [],
      "metadata": {
        "id": "MS_hMMSjncTG"
      },
      "execution_count": null,
      "outputs": []
    }
  ]
}