{
  "nbformat": 4,
  "nbformat_minor": 0,
  "metadata": {
    "colab": {
      "provenance": [],
      "authorship_tag": "ABX9TyNxJMvPvpIJRWJlfRfRjA/R",
      "include_colab_link": true
    },
    "kernelspec": {
      "name": "python3",
      "display_name": "Python 3"
    },
    "language_info": {
      "name": "python"
    }
  },
  "cells": [
    {
      "cell_type": "markdown",
      "metadata": {
        "id": "view-in-github",
        "colab_type": "text"
      },
      "source": [
        "<a href=\"https://colab.research.google.com/github/OMatheusWander/Coders232/blob/main/Conte%C3%BAdo_Pr%C3%A9_Prova_de_Forma%C3%A7%C3%A3o_Engenheiro_de_Dados_%7C_Santander_Coders_23_2.ipynb\" target=\"_parent\"><img src=\"https://colab.research.google.com/assets/colab-badge.svg\" alt=\"Open In Colab\"/></a>"
      ]
    },
    {
      "cell_type": "code",
      "source": [
        "# Solicitar o número do usuário\n",
        "numero = int(input(\"Digite um número: \"))\n",
        "\n",
        "# Imprimir os números de 1 até o número fornecido\n",
        "for i in range(1, numero + 1):\n",
        "    print(i, end=\" \")"
      ],
      "metadata": {
        "id": "QNp8IjCgnAl0",
        "outputId": "9b0642e5-422a-4875-e427-6bc57561919e",
        "colab": {
          "base_uri": "https://localhost:8080/"
        }
      },
      "execution_count": null,
      "outputs": [
        {
          "output_type": "stream",
          "name": "stdout",
          "text": [
            "Digite um número: 15\n",
            "1 2 3 4 5 6 7 8 9 10 11 12 13 14 15 "
          ]
        }
      ]
    },
    {
      "cell_type": "code",
      "source": [
        "numero = int(input(\"Digite um número para calcular o fatorial: \"))\n",
        "\n",
        "if numero < 0:\n",
        "    print(\"O fatorial não está definido para números negativos.\")\n",
        "else:\n",
        "    resultado = 1\n",
        "\n",
        "    numero_atual = 1\n",
        "    while numero_atual <= numero:\n",
        "        resultado *= numero_atual\n",
        "        numero_atual += 1\n",
        "\n",
        "print(f'O fatorial de {numero} é {resultado}')"
      ],
      "metadata": {
        "colab": {
          "base_uri": "https://localhost:8080/"
        },
        "id": "yT41Q4ldp60L",
        "outputId": "0af5acf5-c66e-45f2-a4b5-ba96eb58daf5"
      },
      "execution_count": 13,
      "outputs": [
        {
          "output_type": "stream",
          "name": "stdout",
          "text": [
            "Digite um número para calcular o fatorial: 10\n",
            "O fatorial de 10 é 3628800\n"
          ]
        }
      ]
    },
    {
      "cell_type": "code",
      "source": [
        "# Inicializar o multiplicador\n",
        "multiplicador = 1\n",
        "\n",
        "# Imprimir a tabuada do 9\n",
        "while multiplicador <= 10:\n",
        "    resultado = 9 * multiplicador\n",
        "    print(f'9 * {multiplicador} = {resultado}')\n",
        "    multiplicador += 1\n"
      ],
      "metadata": {
        "colab": {
          "base_uri": "https://localhost:8080/"
        },
        "id": "POvpFibRq82b",
        "outputId": "3f81dcf5-3aa5-46cc-9188-76e4c293aad5"
      },
      "execution_count": 14,
      "outputs": [
        {
          "output_type": "stream",
          "name": "stdout",
          "text": [
            "9 * 1 = 9\n",
            "9 * 2 = 18\n",
            "9 * 3 = 27\n",
            "9 * 4 = 36\n",
            "9 * 5 = 45\n",
            "9 * 6 = 54\n",
            "9 * 7 = 63\n",
            "9 * 8 = 72\n",
            "9 * 9 = 81\n",
            "9 * 10 = 90\n"
          ]
        }
      ]
    },
    {
      "cell_type": "code",
      "source": [
        "maior_numero = None\n",
        "\n",
        "while True:\n",
        "    numero = float(input(\"Digite um número (digite 0 para encerrar): \"))\n",
        "\n",
        "    if numero == 0:\n",
        "        break\n",
        "\n",
        "    if maior_numero is None or numero > maior_numero:\n",
        "        maior_numero = numero\n",
        "\n",
        "if maior_numero is not None:\n",
        "    print(f\"O maior número digitado foi: {maior_numero}\")\n",
        "else:\n",
        "    print(\"Nenhum número foi digitado.\")"
      ],
      "metadata": {
        "colab": {
          "base_uri": "https://localhost:8080/"
        },
        "id": "UUyLg-MOrN_c",
        "outputId": "26bc29eb-3081-41d4-be2e-eacf31dc81e2"
      },
      "execution_count": 15,
      "outputs": [
        {
          "output_type": "stream",
          "name": "stdout",
          "text": [
            "Digite um número (digite 0 para encerrar): 1\n",
            "Digite um número (digite 0 para encerrar): 2\n",
            "Digite um número (digite 0 para encerrar): 3\n",
            "Digite um número (digite 0 para encerrar): 0\n",
            "O maior número digitado foi: 3.0\n"
          ]
        }
      ]
    },
    {
      "cell_type": "code",
      "source": [
        "# Inicializar variáveis\n",
        "idade = -1  # Valor inicial fora do intervalo permitido\n",
        "salario = -1  # Valor inicial fora do intervalo permitido\n",
        "genero = \"\"\n",
        "\n",
        "# Solicitar ao usuário até que as entradas sejam válidas\n",
        "while not (0 <= idade <= 150) or salario <= 0 or genero not in ['M', 'F', 'Outro']:\n",
        "    # Solicitar idade\n",
        "    idade = int(input(\"Digite a idade (entre 0 e 150): \"))\n",
        "\n",
        "    # Solicitar salário\n",
        "    salario = float(input(\"Digite o salário (maior que 0): \"))\n",
        "\n",
        "    # Solicitar gênero\n",
        "    genero = input(\"Digite o gênero (M, F ou Outro): \").upper()\n",
        "\n",
        "# Imprimir os dados recebidos do usuário\n",
        "print(\"\\nDados do usuário:\")\n",
        "print(f\"Idade: {idade} anos\")\n",
        "print(f\"Salário: R${salario:.2f}\")\n",
        "print(f\"Gênero: {genero}\")"
      ],
      "metadata": {
        "colab": {
          "base_uri": "https://localhost:8080/"
        },
        "id": "jy7Pv1nbrgNj",
        "outputId": "ad379d53-e384-4f36-a63d-f0d7281ccc04"
      },
      "execution_count": 17,
      "outputs": [
        {
          "output_type": "stream",
          "name": "stdout",
          "text": [
            "Digite a idade (entre 0 e 150): 24\n",
            "Digite o salário (maior que 0): 12000\n",
            "Digite o gênero (M, F ou Outro): m\n",
            "\n",
            "Dados do usuário:\n",
            "Idade: 24 anos\n",
            "Salário: R$12000.00\n",
            "Gênero: M\n"
          ]
        }
      ]
    },
    {
      "cell_type": "code",
      "source": [
        "texto_agregado = \"\"\n",
        "\n",
        "while True:\n",
        "    palavra = input(\"Digite uma palavra (ou 'PARE' para encerrar): \")\n",
        "\n",
        "    if palavra.upper() == \"PARE\":\n",
        "        break\n",
        "\n",
        "    texto_agregado += palavra + \" \"\n",
        "\n",
        "print(\"\\nTexto agregado:\")\n",
        "print(texto_agregado)"
      ],
      "metadata": {
        "colab": {
          "base_uri": "https://localhost:8080/"
        },
        "id": "r-Lxif5GssvQ",
        "outputId": "c1916b2d-3530-4810-e05a-a5404b9c4ce6"
      },
      "execution_count": 18,
      "outputs": [
        {
          "output_type": "stream",
          "name": "stdout",
          "text": [
            "Digite uma palavra (ou 'PARE' para encerrar): alo\n",
            "Digite uma palavra (ou 'PARE' para encerrar): alo\n",
            "Digite uma palavra (ou 'PARE' para encerrar): realengo\n",
            "Digite uma palavra (ou 'PARE' para encerrar): aquele abraço\n",
            "Digite uma palavra (ou 'PARE' para encerrar): PARE\n",
            "\n",
            "Texto agregado:\n",
            "alo alo realengo aquele abraço \n"
          ]
        }
      ]
    },
    {
      "cell_type": "code",
      "source": [],
      "metadata": {
        "id": "8mQl9cXj2Qw5"
      },
      "execution_count": null,
      "outputs": []
    }
  ]
}